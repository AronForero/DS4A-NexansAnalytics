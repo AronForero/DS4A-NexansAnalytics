{
  "nbformat": 4,
  "nbformat_minor": 0,
  "metadata": {
    "kernelspec": {
      "display_name": "Python 3",
      "language": "python",
      "name": "python3"
    },
    "language_info": {
      "codemirror_mode": {
        "name": "ipython",
        "version": 3
      },
      "file_extension": ".py",
      "mimetype": "text/x-python",
      "name": "python",
      "nbconvert_exporter": "python",
      "pygments_lexer": "ipython3",
      "version": "3.6.7"
    },
    "colab": {
      "name": "[W5] Nexans - Exploratory Data Analysis.ipynb",
      "provenance": [],
      "collapsed_sections": []
    }
  },
  "cells": [
    {
      "cell_type": "markdown",
      "metadata": {
        "id": "ualKgKUYWMwV"
      },
      "source": [
        "# <h1 style = \"text-align: center\">[DS4A] Nexans - Exploratory Data Analysis</h1>"
      ]
    },
    {
      "cell_type": "markdown",
      "metadata": {
        "id": "__dZOay0EWyw"
      },
      "source": [
        "# <h2 style = \"text-align: left\">Nexans Colombia | Team # 22</h2>\n",
        "\n",
        "# <h4 style = \"text-align: left\">Andres Fabian Osorio, Aron Forero, Camilo Castellanos, Guillermo Castillo, Jairo Bautista, Jorge Florez, Nicolás López </h4>"
      ]
    },
    {
      "cell_type": "markdown",
      "metadata": {
        "id": "D_WI9bQTFYS7"
      },
      "source": [
        "# <h2 style = \"text-align: left\">Case Introduction</h2>\n"
      ]
    },
    {
      "cell_type": "markdown",
      "metadata": {
        "id": "Su6uO-yfKdPE"
      },
      "source": [
        "<p> \n",
        "\n",
        "**Business Context.**  Nexans Colombia is an electrical wiring and telecommunications world-class manufacturer. Nexans Colombia has been growing significantly over the last 13 years. They have contacted DS4A students to help them understand the variation in demand of electrical wiring on the market so that they can foresee the supply chain better. Nexans is interested in learning how external factors such as the metal stock market, currency and building GDP affect their sales.\n",
        "</p>\n",
        "<br>\n",
        "\n",
        "<p> \n",
        "\n",
        "**Business Problem.** The company would like DS4A data scientists to answer the following questions: **“What’s the product families’ demand variation on a fixed period (monthly, quarterly, yearly) for the market segments?”**, **“Is there any client clusterization based on customer behaviour different than the current customer segments on the company?”** and **“Are there any external factors that can influentiate the electrical wiring demand?**\n",
        "</p>\n",
        "<br>\n",
        "\n",
        "<p> \n",
        "\n",
        "**Analytical Context.** Thus the scenario above can be common amongst manufacturing businesses, aligning offer and demand might be a very complex problem to solve, as it would represent a business crystal ball. As a first approach, DS4A data scientists begin a preliminary Exploratory Data Analysis (EDA) on Nexans Colombia historical sales by opening the CSV file on Jupyter Notebook, followed by initial column descriptions and name cleaning. Later on, we proceed by checking null values and a relevant variables analysis. Finally we graph sales per year to give a full picture of the current dataset.\n",
        "\n",
        "</p>\n",
        "<br>\n"
      ]
    },
    {
      "cell_type": "markdown",
      "metadata": {
        "id": "ENOWVf4cYWO5"
      },
      "source": [
        "# <h2>Market Trend Forecast </h2>"
      ]
    },
    {
      "cell_type": "code",
      "metadata": {
        "id": "psV9u3JhWYWj",
        "outputId": "ce9e4150-9f75-4312-9471-46599cc07592",
        "colab": {
          "base_uri": "https://localhost:8080/",
          "height": 34
        }
      },
      "source": [
        "from google.colab import drive\n",
        "drive.mount('/content/drive')"
      ],
      "execution_count": null,
      "outputs": [
        {
          "output_type": "stream",
          "text": [
            "Drive already mounted at /content/drive; to attempt to forcibly remount, call drive.mount(\"/content/drive\", force_remount=True).\n"
          ],
          "name": "stdout"
        }
      ]
    },
    {
      "cell_type": "code",
      "metadata": {
        "id": "BUUJzoK9WMwW"
      },
      "source": [
        "import requests\n",
        "import pandas as pd\n",
        "import matplotlib.pyplot as plt\n",
        "import seaborn as sns\n",
        "import numpy as np\n",
        "\n",
        "pd.set_option('display.max_columns', None)"
      ],
      "execution_count": null,
      "outputs": []
    },
    {
      "cell_type": "markdown",
      "metadata": {
        "id": "XmgY5ltJWMwZ"
      },
      "source": [
        "<h2>What are the datasets that participants will consider to use to solve this problem?</h2>"
      ]
    },
    {
      "cell_type": "markdown",
      "metadata": {
        "id": "Diktw6eVWMwa"
      },
      "source": [
        "<p><strong>Dataset that participants can access to solve the problem.</strong> \n",
        "Historical sales of the company and a forecast already built in the company.</p>"
      ]
    },
    {
      "cell_type": "markdown",
      "metadata": {
        "id": "eN1aJ7Bml3h7"
      },
      "source": [
        "<p>The features we will use in this case are:</p>\n",
        "<ol>\n",
        "<li><strong>Documento de ventas:</strong> Billing number; Integer</li>\n",
        "<li><strong>Destinatario mcía.:</strong> Customer ID (NIT); Integer</li>\n",
        "<li><strong>Fecha Reparto:</strong> Fecha de despacho de producto; Integer</li>\n",
        "<li><strong>Posición docto ventas:</strong> Position on bill; Integer</li>\n",
        "<li><strong>Material:</strong> Product ID; Integer </li>\n",
        "<li><strong>Texto breve de material:</strong> Product description; Text</li>\n",
        "<li><strong>Cantidad entrega:</strong> Quantity Billed; Integer</li>\n",
        "<li><strong>Un.medida venta:</strong> Unit of measurement (M); String</li>\n",
        "<li><strong>Peso bruto:</strong> Total weight; Float</li>\n",
        "<li><strong>MC Al Kg:</strong> Amount of Aluminium on product; Float</li>\n",
        "<li><strong>MC Cu Kg:</strong> Amount of Copper on product; Float </li>\n",
        "<li><strong>Fecha de pedido:</strong> Created by; Integer</li>\n",
        "\n",
        "\n",
        "<li><strong>Fecha Entrega:</strong> Delivery date; Integer</li>\n",
        "<li><strong>Stock a Pedidos:</strong> Product definition; String</li>\n",
        "<li><strong>GRUPO MATERIALES 2:</strong> Material Group; String</li>\n",
        "<li><strong>Grupo Clientes:</strong> customer family; String</li>\n",
        "<li><strong>Valor Moneda Local:</strong> Billing; Integer </li>\n",
        "<li><strong>Moneda:</strong> Currency; Text</li>\n",
        "<li><strong>METROS:</strong> Length quantity in Meters; Integer</li>\n",
        "<li><strong>PRODUCT ABC:</strong> ABC product classification (A: High priority, B: Mid priority, C: low priority, Z: lowest priority, OUT: no priority ; String</li>\n",
        "<li><strong>Customer ABC:</strong>ABC product classification (A: High priority, B: Mid priority, C: low priority, Z: lowest priority, OUT: no priority ; String</li>\n",
        "<li><strong>MARKET LINE:</strong> Customer market classification; String</li>\n",
        "<li><strong>Antes de color:</strong> Product description before coating; String </li>\n",
        "<li><strong>Antes de fracionado:</strong> Product description After coating, before fractioning; String</li>\n",
        "</ol>"
      ]
    },
    {
      "cell_type": "code",
      "metadata": {
        "id": "OExkm-o1WMwb"
      },
      "source": [
        "# load csv dataset\n",
        "df = pd.read_csv(\"drive/My Drive/DS4A/data/ventas.csv\", delimiter = ';', parse_dates=['Fecha Reparto', 'Fecha Entrega'])\n",
        "rename_columns = {\n",
        "    'Destinatario mcía.': 'Destinatario mcia',\n",
        "    'Posición docto ventas': 'Posicion docto ventas',\n",
        "    'Un.medida venta': 'Un. medida venta',\n",
        "    'Stock a  Pedidos': 'Stock a Pedidos',\n",
        "    'GRUPO MATERIALES 2': 'Grupo Materiales 2',\n",
        "    'Grupo  Clientes': 'Grupo Clientes',\n",
        "    'METROS': 'Metros',\n",
        "    'PRODUCT ABC': 'Product ABC',\n",
        "    'CUSTOMER ABC': 'Customer ABC',\n",
        "    'MARKET LINE': 'Market Line'\n",
        "}\n",
        "df.rename(columns=rename_columns, inplace=True)"
      ],
      "execution_count": null,
      "outputs": []
    },
    {
      "cell_type": "code",
      "metadata": {
        "id": "PYMOrcuIWMwf",
        "outputId": "b71bd3f4-b185-406f-afbe-f60c8f09b6fc",
        "colab": {
          "base_uri": "https://localhost:8080/",
          "height": 337
        }
      },
      "source": [
        "df.head(3)"
      ],
      "execution_count": null,
      "outputs": [
        {
          "output_type": "execute_result",
          "data": {
            "text/html": [
              "<div>\n",
              "<style scoped>\n",
              "    .dataframe tbody tr th:only-of-type {\n",
              "        vertical-align: middle;\n",
              "    }\n",
              "\n",
              "    .dataframe tbody tr th {\n",
              "        vertical-align: top;\n",
              "    }\n",
              "\n",
              "    .dataframe thead th {\n",
              "        text-align: right;\n",
              "    }\n",
              "</style>\n",
              "<table border=\"1\" class=\"dataframe\">\n",
              "  <thead>\n",
              "    <tr style=\"text-align: right;\">\n",
              "      <th></th>\n",
              "      <th>Documento de ventas</th>\n",
              "      <th>Destinatario mcia</th>\n",
              "      <th>Fecha Reparto</th>\n",
              "      <th>Posicion docto ventas</th>\n",
              "      <th>Material</th>\n",
              "      <th>Texto breve de material</th>\n",
              "      <th>Cantidad entrega</th>\n",
              "      <th>Un. medida venta</th>\n",
              "      <th>Peso bruto</th>\n",
              "      <th>MC Al Kg</th>\n",
              "      <th>MC Cu Kg</th>\n",
              "      <th>Fecha de Pedido</th>\n",
              "      <th>Fecha Entrega</th>\n",
              "      <th>Stock a Pedidos</th>\n",
              "      <th>Grupo Materiales 2</th>\n",
              "      <th>Grupo Clientes</th>\n",
              "      <th>Valor Moneda Local</th>\n",
              "      <th>Moneda</th>\n",
              "      <th>Metros</th>\n",
              "      <th>Product ABC</th>\n",
              "      <th>Customer ABC</th>\n",
              "      <th>Market Line</th>\n",
              "      <th>Antes de color</th>\n",
              "      <th>Antes de fraccionado</th>\n",
              "    </tr>\n",
              "  </thead>\n",
              "  <tbody>\n",
              "    <tr>\n",
              "      <th>0</th>\n",
              "      <td>460773.0</td>\n",
              "      <td>27676447956</td>\n",
              "      <td>2019-04-01</td>\n",
              "      <td>60</td>\n",
              "      <td>10011309</td>\n",
              "      <td>C.1/0AWG (B) Cu DESNUDO SEMIDURO</td>\n",
              "      <td>25.0</td>\n",
              "      <td>M</td>\n",
              "      <td>12,11</td>\n",
              "      <td>0</td>\n",
              "      <td>12,11</td>\n",
              "      <td>2/01/2019</td>\n",
              "      <td>2019-02-01</td>\n",
              "      <td>A PEDIDO</td>\n",
              "      <td>Nexans CO C Desnudo Cu</td>\n",
              "      <td>Distrib. y retail</td>\n",
              "      <td>100.166.000</td>\n",
              "      <td>COP</td>\n",
              "      <td>25.0</td>\n",
              "      <td>OUT</td>\n",
              "      <td>Z</td>\n",
              "      <td>D&amp;I</td>\n",
              "      <td>C Desnudo Cu 1/0</td>\n",
              "      <td>C Desnudo Cu 1/0 DES</td>\n",
              "    </tr>\n",
              "    <tr>\n",
              "      <th>1</th>\n",
              "      <td>460780.0</td>\n",
              "      <td>4361707432</td>\n",
              "      <td>2019-04-01</td>\n",
              "      <td>10</td>\n",
              "      <td>10011766</td>\n",
              "      <td>C.12AWG THHN/THWN-2 TC 600V 90ºC AM R100</td>\n",
              "      <td>1.5</td>\n",
              "      <td>M</td>\n",
              "      <td>53,476</td>\n",
              "      <td>0</td>\n",
              "      <td>43,53</td>\n",
              "      <td>2/01/2019</td>\n",
              "      <td>2019-02-01</td>\n",
              "      <td>STOCK</td>\n",
              "      <td>Nexans CO C 14 - 10 AWG THHN/T</td>\n",
              "      <td>Distrib. y retail</td>\n",
              "      <td>469.587.000</td>\n",
              "      <td>COP</td>\n",
              "      <td>1.5</td>\n",
              "      <td>A</td>\n",
              "      <td>B</td>\n",
              "      <td>D&amp;I</td>\n",
              "      <td>C 14 - 10 AWG THHN/THWN Cu 12</td>\n",
              "      <td>C 14 - 10 AWG THHN/THWN Cu 12 AM</td>\n",
              "    </tr>\n",
              "    <tr>\n",
              "      <th>2</th>\n",
              "      <td>460780.0</td>\n",
              "      <td>4361707432</td>\n",
              "      <td>2019-04-01</td>\n",
              "      <td>20</td>\n",
              "      <td>10011764</td>\n",
              "      <td>C.12AWG THHN/THWN-2 TC 600V 90ºC AZ R100</td>\n",
              "      <td>1.5</td>\n",
              "      <td>M</td>\n",
              "      <td>53,476</td>\n",
              "      <td>0</td>\n",
              "      <td>43,53</td>\n",
              "      <td>2/01/2019</td>\n",
              "      <td>2019-02-01</td>\n",
              "      <td>STOCK</td>\n",
              "      <td>Nexans CO C 14 - 10 AWG THHN/T</td>\n",
              "      <td>Distrib. y retail</td>\n",
              "      <td>469.587.000</td>\n",
              "      <td>COP</td>\n",
              "      <td>1.5</td>\n",
              "      <td>A</td>\n",
              "      <td>B</td>\n",
              "      <td>D&amp;I</td>\n",
              "      <td>C 14 - 10 AWG THHN/THWN Cu 12</td>\n",
              "      <td>C 14 - 10 AWG THHN/THWN Cu 12 AZ</td>\n",
              "    </tr>\n",
              "  </tbody>\n",
              "</table>\n",
              "</div>"
            ],
            "text/plain": [
              "   Documento de ventas Destinatario mcia Fecha Reparto  Posicion docto ventas  \\\n",
              "0             460773.0       27676447956    2019-04-01                     60   \n",
              "1             460780.0        4361707432    2019-04-01                     10   \n",
              "2             460780.0        4361707432    2019-04-01                     20   \n",
              "\n",
              "   Material                   Texto breve de material  Cantidad entrega  \\\n",
              "0  10011309          C.1/0AWG (B) Cu DESNUDO SEMIDURO              25.0   \n",
              "1  10011766  C.12AWG THHN/THWN-2 TC 600V 90ºC AM R100               1.5   \n",
              "2  10011764  C.12AWG THHN/THWN-2 TC 600V 90ºC AZ R100               1.5   \n",
              "\n",
              "  Un. medida venta Peso bruto MC Al Kg MC Cu Kg Fecha de Pedido Fecha Entrega  \\\n",
              "0                M      12,11        0    12,11       2/01/2019    2019-02-01   \n",
              "1                M     53,476        0    43,53       2/01/2019    2019-02-01   \n",
              "2                M     53,476        0    43,53       2/01/2019    2019-02-01   \n",
              "\n",
              "  Stock a Pedidos              Grupo Materiales 2     Grupo Clientes  \\\n",
              "0        A PEDIDO          Nexans CO C Desnudo Cu  Distrib. y retail   \n",
              "1           STOCK  Nexans CO C 14 - 10 AWG THHN/T  Distrib. y retail   \n",
              "2           STOCK  Nexans CO C 14 - 10 AWG THHN/T  Distrib. y retail   \n",
              "\n",
              "  Valor Moneda Local Moneda  Metros Product ABC Customer ABC Market Line  \\\n",
              "0        100.166.000    COP    25.0         OUT            Z         D&I   \n",
              "1        469.587.000    COP     1.5           A            B         D&I   \n",
              "2        469.587.000    COP     1.5           A            B         D&I   \n",
              "\n",
              "                  Antes de color              Antes de fraccionado  \n",
              "0               C Desnudo Cu 1/0              C Desnudo Cu 1/0 DES  \n",
              "1  C 14 - 10 AWG THHN/THWN Cu 12  C 14 - 10 AWG THHN/THWN Cu 12 AM  \n",
              "2  C 14 - 10 AWG THHN/THWN Cu 12  C 14 - 10 AWG THHN/THWN Cu 12 AZ  "
            ]
          },
          "metadata": {
            "tags": []
          },
          "execution_count": 101
        }
      ]
    },
    {
      "cell_type": "code",
      "metadata": {
        "id": "D2x3ZPYIUfje",
        "outputId": "7e3de866-523f-4764-9d6c-980466255a00",
        "colab": {
          "base_uri": "https://localhost:8080/",
          "height": 555
        }
      },
      "source": [
        "df.info()"
      ],
      "execution_count": null,
      "outputs": [
        {
          "output_type": "stream",
          "text": [
            "<class 'pandas.core.frame.DataFrame'>\n",
            "RangeIndex: 125225 entries, 0 to 125224\n",
            "Data columns (total 24 columns):\n",
            " #   Column                   Non-Null Count   Dtype         \n",
            "---  ------                   --------------   -----         \n",
            " 0   Documento de ventas      125211 non-null  float64       \n",
            " 1   Destinatario mcia        125225 non-null  object        \n",
            " 2   Fecha Reparto            125225 non-null  datetime64[ns]\n",
            " 3   Posicion docto ventas    125225 non-null  int64         \n",
            " 4   Material                 125225 non-null  int64         \n",
            " 5   Texto breve de material  125225 non-null  object        \n",
            " 6   Cantidad entrega         125225 non-null  float64       \n",
            " 7   Un. medida venta         125225 non-null  object        \n",
            " 8   Peso bruto               125225 non-null  object        \n",
            " 9   MC Al Kg                 125225 non-null  object        \n",
            " 10  MC Cu Kg                 125225 non-null  object        \n",
            " 11  Fecha de Pedido          112519 non-null  object        \n",
            " 12  Fecha Entrega            125144 non-null  datetime64[ns]\n",
            " 13  Stock a Pedidos          125225 non-null  object        \n",
            " 14  Grupo Materiales 2       125225 non-null  object        \n",
            " 15  Grupo Clientes           108806 non-null  object        \n",
            " 16  Valor Moneda Local       125225 non-null  object        \n",
            " 17  Moneda                   108806 non-null  object        \n",
            " 18  Metros                   125225 non-null  float64       \n",
            " 19  Product ABC              113826 non-null  object        \n",
            " 20  Customer ABC             121632 non-null  object        \n",
            " 21  Market Line              106845 non-null  object        \n",
            " 22  Antes de color           116965 non-null  object        \n",
            " 23  Antes de fraccionado     116965 non-null  object        \n",
            "dtypes: datetime64[ns](2), float64(3), int64(2), object(17)\n",
            "memory usage: 22.9+ MB\n"
          ],
          "name": "stdout"
        }
      ]
    },
    {
      "cell_type": "code",
      "metadata": {
        "id": "hZsrjT0mUf7m",
        "outputId": "9d2fbd0a-4b24-453f-879f-ff172360e5a7",
        "colab": {
          "base_uri": "https://localhost:8080/",
          "height": 300
        }
      },
      "source": [
        "df.describe()"
      ],
      "execution_count": null,
      "outputs": [
        {
          "output_type": "execute_result",
          "data": {
            "text/html": [
              "<div>\n",
              "<style scoped>\n",
              "    .dataframe tbody tr th:only-of-type {\n",
              "        vertical-align: middle;\n",
              "    }\n",
              "\n",
              "    .dataframe tbody tr th {\n",
              "        vertical-align: top;\n",
              "    }\n",
              "\n",
              "    .dataframe thead th {\n",
              "        text-align: right;\n",
              "    }\n",
              "</style>\n",
              "<table border=\"1\" class=\"dataframe\">\n",
              "  <thead>\n",
              "    <tr style=\"text-align: right;\">\n",
              "      <th></th>\n",
              "      <th>Documento de ventas</th>\n",
              "      <th>Posicion docto ventas</th>\n",
              "      <th>Material</th>\n",
              "      <th>Cantidad entrega</th>\n",
              "      <th>Metros</th>\n",
              "    </tr>\n",
              "  </thead>\n",
              "  <tbody>\n",
              "    <tr>\n",
              "      <th>count</th>\n",
              "      <td>1.252110e+05</td>\n",
              "      <td>125225.000000</td>\n",
              "      <td>1.252250e+05</td>\n",
              "      <td>125225.000000</td>\n",
              "      <td>125225.000000</td>\n",
              "    </tr>\n",
              "    <tr>\n",
              "      <th>mean</th>\n",
              "      <td>6.162153e+08</td>\n",
              "      <td>115.437397</td>\n",
              "      <td>1.071354e+07</td>\n",
              "      <td>196.362499</td>\n",
              "      <td>208.736300</td>\n",
              "    </tr>\n",
              "    <tr>\n",
              "      <th>std</th>\n",
              "      <td>1.585746e+09</td>\n",
              "      <td>189.676501</td>\n",
              "      <td>6.704112e+06</td>\n",
              "      <td>241.299687</td>\n",
              "      <td>246.747249</td>\n",
              "    </tr>\n",
              "    <tr>\n",
              "      <th>min</th>\n",
              "      <td>4.454690e+05</td>\n",
              "      <td>1.000000</td>\n",
              "      <td>1.001104e+07</td>\n",
              "      <td>1.000000</td>\n",
              "      <td>1.000000</td>\n",
              "    </tr>\n",
              "    <tr>\n",
              "      <th>25%</th>\n",
              "      <td>4.720120e+05</td>\n",
              "      <td>20.000000</td>\n",
              "      <td>1.001176e+07</td>\n",
              "      <td>2.000000</td>\n",
              "      <td>2.000000</td>\n",
              "    </tr>\n",
              "    <tr>\n",
              "      <th>50%</th>\n",
              "      <td>4.830190e+05</td>\n",
              "      <td>50.000000</td>\n",
              "      <td>1.003363e+07</td>\n",
              "      <td>17.000000</td>\n",
              "      <td>15.000000</td>\n",
              "    </tr>\n",
              "    <tr>\n",
              "      <th>75%</th>\n",
              "      <td>4.961965e+05</td>\n",
              "      <td>130.000000</td>\n",
              "      <td>1.004033e+07</td>\n",
              "      <td>500.000000</td>\n",
              "      <td>500.000000</td>\n",
              "    </tr>\n",
              "    <tr>\n",
              "      <th>max</th>\n",
              "      <td>4.700069e+09</td>\n",
              "      <td>2250.000000</td>\n",
              "      <td>8.000632e+07</td>\n",
              "      <td>999.000000</td>\n",
              "      <td>999.000000</td>\n",
              "    </tr>\n",
              "  </tbody>\n",
              "</table>\n",
              "</div>"
            ],
            "text/plain": [
              "       Documento de ventas  Posicion docto ventas      Material  \\\n",
              "count         1.252110e+05          125225.000000  1.252250e+05   \n",
              "mean          6.162153e+08             115.437397  1.071354e+07   \n",
              "std           1.585746e+09             189.676501  6.704112e+06   \n",
              "min           4.454690e+05               1.000000  1.001104e+07   \n",
              "25%           4.720120e+05              20.000000  1.001176e+07   \n",
              "50%           4.830190e+05              50.000000  1.003363e+07   \n",
              "75%           4.961965e+05             130.000000  1.004033e+07   \n",
              "max           4.700069e+09            2250.000000  8.000632e+07   \n",
              "\n",
              "       Cantidad entrega         Metros  \n",
              "count     125225.000000  125225.000000  \n",
              "mean         196.362499     208.736300  \n",
              "std          241.299687     246.747249  \n",
              "min            1.000000       1.000000  \n",
              "25%            2.000000       2.000000  \n",
              "50%           17.000000      15.000000  \n",
              "75%          500.000000     500.000000  \n",
              "max          999.000000     999.000000  "
            ]
          },
          "metadata": {
            "tags": []
          },
          "execution_count": 26
        }
      ]
    },
    {
      "cell_type": "code",
      "metadata": {
        "id": "9WNSX_fbUilH",
        "outputId": "5539155e-63f7-4a77-9412-27eb1eade960",
        "colab": {
          "base_uri": "https://localhost:8080/",
          "height": 262
        }
      },
      "source": [
        "df.describe(include=['O'])"
      ],
      "execution_count": null,
      "outputs": [
        {
          "output_type": "execute_result",
          "data": {
            "text/html": [
              "<div>\n",
              "<style scoped>\n",
              "    .dataframe tbody tr th:only-of-type {\n",
              "        vertical-align: middle;\n",
              "    }\n",
              "\n",
              "    .dataframe tbody tr th {\n",
              "        vertical-align: top;\n",
              "    }\n",
              "\n",
              "    .dataframe thead th {\n",
              "        text-align: right;\n",
              "    }\n",
              "</style>\n",
              "<table border=\"1\" class=\"dataframe\">\n",
              "  <thead>\n",
              "    <tr style=\"text-align: right;\">\n",
              "      <th></th>\n",
              "      <th>Destinatario mcia</th>\n",
              "      <th>Texto breve de material</th>\n",
              "      <th>Un. medida venta</th>\n",
              "      <th>Peso bruto</th>\n",
              "      <th>MC Al Kg</th>\n",
              "      <th>MC Cu Kg</th>\n",
              "      <th>Fecha de Pedido</th>\n",
              "      <th>Stock a Pedidos</th>\n",
              "      <th>Grupo Materiales 2</th>\n",
              "      <th>Grupo Clientes</th>\n",
              "      <th>Valor Moneda Local</th>\n",
              "      <th>Moneda</th>\n",
              "      <th>Product ABC</th>\n",
              "      <th>Customer ABC</th>\n",
              "      <th>Market Line</th>\n",
              "      <th>Antes de color</th>\n",
              "      <th>Antes de fraccionado</th>\n",
              "    </tr>\n",
              "  </thead>\n",
              "  <tbody>\n",
              "    <tr>\n",
              "      <th>count</th>\n",
              "      <td>125225</td>\n",
              "      <td>125225</td>\n",
              "      <td>125225</td>\n",
              "      <td>125225</td>\n",
              "      <td>125225</td>\n",
              "      <td>125225</td>\n",
              "      <td>112519</td>\n",
              "      <td>125225</td>\n",
              "      <td>125225</td>\n",
              "      <td>108806</td>\n",
              "      <td>125225</td>\n",
              "      <td>108806</td>\n",
              "      <td>113826</td>\n",
              "      <td>121632</td>\n",
              "      <td>106845</td>\n",
              "      <td>116965</td>\n",
              "      <td>116965</td>\n",
              "    </tr>\n",
              "    <tr>\n",
              "      <th>unique</th>\n",
              "      <td>251</td>\n",
              "      <td>1524</td>\n",
              "      <td>6</td>\n",
              "      <td>15660</td>\n",
              "      <td>3052</td>\n",
              "      <td>9459</td>\n",
              "      <td>478</td>\n",
              "      <td>2</td>\n",
              "      <td>33</td>\n",
              "      <td>4</td>\n",
              "      <td>27258</td>\n",
              "      <td>1</td>\n",
              "      <td>7</td>\n",
              "      <td>9</td>\n",
              "      <td>7</td>\n",
              "      <td>348</td>\n",
              "      <td>497</td>\n",
              "    </tr>\n",
              "    <tr>\n",
              "      <th>top</th>\n",
              "      <td>#VALUE!</td>\n",
              "      <td>1X8+8AWG ACOMCONC XLPE600V90C XLPE USE-M</td>\n",
              "      <td>M</td>\n",
              "      <td>106,521</td>\n",
              "      <td>0</td>\n",
              "      <td>0</td>\n",
              "      <td>0/01/1900</td>\n",
              "      <td>STOCK</td>\n",
              "      <td>Nexans CO Alambre de Cobre THH</td>\n",
              "      <td>Distrib. y retail</td>\n",
              "      <td>0</td>\n",
              "      <td>COP</td>\n",
              "      <td>A</td>\n",
              "      <td>A</td>\n",
              "      <td>D&amp;I</td>\n",
              "      <td>Alambre de Cobre THHN/THWN 12</td>\n",
              "      <td>Acometida Antifraude 8 NE</td>\n",
              "    </tr>\n",
              "    <tr>\n",
              "      <th>freq</th>\n",
              "      <td>16405</td>\n",
              "      <td>7369</td>\n",
              "      <td>113745</td>\n",
              "      <td>3760</td>\n",
              "      <td>107633</td>\n",
              "      <td>17691</td>\n",
              "      <td>3713</td>\n",
              "      <td>102468</td>\n",
              "      <td>28900</td>\n",
              "      <td>80948</td>\n",
              "      <td>23621</td>\n",
              "      <td>108806</td>\n",
              "      <td>55583</td>\n",
              "      <td>74053</td>\n",
              "      <td>87408</td>\n",
              "      <td>15272</td>\n",
              "      <td>8138</td>\n",
              "    </tr>\n",
              "  </tbody>\n",
              "</table>\n",
              "</div>"
            ],
            "text/plain": [
              "       Destinatario mcia                   Texto breve de material  \\\n",
              "count             125225                                    125225   \n",
              "unique               251                                      1524   \n",
              "top              #VALUE!  1X8+8AWG ACOMCONC XLPE600V90C XLPE USE-M   \n",
              "freq               16405                                      7369   \n",
              "\n",
              "       Un. medida venta Peso bruto MC Al Kg MC Cu Kg Fecha de Pedido  \\\n",
              "count            125225     125225   125225   125225          112519   \n",
              "unique                6      15660     3052     9459             478   \n",
              "top                   M    106,521        0        0       0/01/1900   \n",
              "freq             113745       3760   107633    17691            3713   \n",
              "\n",
              "       Stock a Pedidos              Grupo Materiales 2     Grupo Clientes  \\\n",
              "count           125225                          125225             108806   \n",
              "unique               2                              33                  4   \n",
              "top              STOCK  Nexans CO Alambre de Cobre THH  Distrib. y retail   \n",
              "freq            102468                           28900              80948   \n",
              "\n",
              "       Valor Moneda Local  Moneda Product ABC Customer ABC Market Line  \\\n",
              "count              125225  108806      113826       121632      106845   \n",
              "unique              27258       1           7            9           7   \n",
              "top                     0     COP           A            A         D&I   \n",
              "freq                23621  108806       55583        74053       87408   \n",
              "\n",
              "                       Antes de color       Antes de fraccionado  \n",
              "count                          116965                     116965  \n",
              "unique                            348                        497  \n",
              "top     Alambre de Cobre THHN/THWN 12  Acometida Antifraude 8 NE  \n",
              "freq                            15272                       8138  "
            ]
          },
          "metadata": {
            "tags": []
          },
          "execution_count": 27
        }
      ]
    },
    {
      "cell_type": "code",
      "metadata": {
        "id": "kAbVVlrfVMmY"
      },
      "source": [
        "#convert 'Valor Moneda Local' from string to int\n",
        "df['Valor Moneda Local'] = df['Valor Moneda Local'].str.replace('.', '')\n",
        "df['Valor Moneda Local'] = df['Valor Moneda Local'].astype(int)"
      ],
      "execution_count": null,
      "outputs": []
    },
    {
      "cell_type": "markdown",
      "metadata": {
        "id": "XDmD_cwRWQYI"
      },
      "source": [
        "## Null Values Analysis"
      ]
    },
    {
      "cell_type": "code",
      "metadata": {
        "id": "V9fiQ0p4WSXg",
        "outputId": "3b161d49-9c3f-4d58-b219-2059f5248085",
        "colab": {
          "base_uri": "https://localhost:8080/",
          "height": 243
        }
      },
      "source": [
        "print('Null Percentage of each variable: \\n')\n",
        "null_percentage = (df.isnull().sum()/df.shape[0])*100\n",
        "null_percentage[null_percentage != 0]"
      ],
      "execution_count": null,
      "outputs": [
        {
          "output_type": "stream",
          "text": [
            "Null Percentage of each variable: \n",
            "\n"
          ],
          "name": "stdout"
        },
        {
          "output_type": "execute_result",
          "data": {
            "text/plain": [
              "Documento de ventas      0.011180\n",
              "Fecha de Pedido         10.146536\n",
              "Fecha Entrega            0.064684\n",
              "Grupo Clientes          13.111599\n",
              "Moneda                  13.111599\n",
              "Product ABC              9.102815\n",
              "Customer ABC             2.869235\n",
              "Market Line             14.677580\n",
              "Antes de color           6.596127\n",
              "Antes de fraccionado     6.596127\n",
              "dtype: float64"
            ]
          },
          "metadata": {
            "tags": []
          },
          "execution_count": 55
        }
      ]
    },
    {
      "cell_type": "markdown",
      "metadata": {
        "id": "qOCsAa1WVMj_"
      },
      "source": [
        "## First Relevant Variables Analysis"
      ]
    },
    {
      "cell_type": "code",
      "metadata": {
        "id": "gdTkoUWB8Ujb",
        "outputId": "14cbafc7-80e6-4b8e-b3c3-fa3fb715c1aa",
        "colab": {
          "base_uri": "https://localhost:8080/",
          "height": 104
        }
      },
      "source": [
        "df[\"Grupo Clientes\"].value_counts()"
      ],
      "execution_count": null,
      "outputs": [
        {
          "output_type": "execute_result",
          "data": {
            "text/plain": [
              "Distrib. y retail       80948\n",
              "Industrie               14347\n",
              "Empresas contratista    11691\n",
              "Industrias               1820\n",
              "Name: Grupo Clientes, dtype: int64"
            ]
          },
          "metadata": {
            "tags": []
          },
          "execution_count": 57
        }
      ]
    },
    {
      "cell_type": "code",
      "metadata": {
        "id": "zPS5Niy9ZLZV"
      },
      "source": [
        "#Replace bad dates in 'Fecha de Pedido' column\n",
        "df[\"Fecha de Pedido\"] = df[\"Fecha de Pedido\"].str.replace('0/01/1900', '01/01/1900', regex=False)\n",
        "# convertion datetime columns\n",
        "df['Fecha de Pedido'] = pd.to_datetime(df['Fecha de Pedido'])"
      ],
      "execution_count": null,
      "outputs": []
    },
    {
      "cell_type": "code",
      "metadata": {
        "id": "auUQor7uZyID",
        "outputId": "eef6f046-0309-43a7-fa9f-f9c368e1a967",
        "colab": {
          "base_uri": "https://localhost:8080/",
          "height": 225
        }
      },
      "source": [
        "# There are so many numbers that are repeated, but is possible to have several items in just one invoice\n",
        "df[\"Documento de ventas\"].value_counts()"
      ],
      "execution_count": null,
      "outputs": [
        {
          "output_type": "execute_result",
          "data": {
            "text/plain": [
              "4.960960e+05    487\n",
              "4.821180e+05    446\n",
              "4.958000e+05    401\n",
              "4.957990e+05    400\n",
              "4.687620e+05    350\n",
              "               ... \n",
              "4.700068e+09      1\n",
              "4.883640e+05      1\n",
              "4.668810e+05      1\n",
              "4.883700e+05      1\n",
              "4.886270e+05      1\n",
              "Name: Documento de ventas, Length: 14059, dtype: int64"
            ]
          },
          "metadata": {
            "tags": []
          },
          "execution_count": 70
        }
      ]
    },
    {
      "cell_type": "code",
      "metadata": {
        "id": "luDHZf92ZyDa",
        "outputId": "943ff8f1-fea6-4daf-b61e-f73bb583e726",
        "colab": {
          "base_uri": "https://localhost:8080/",
          "height": 156
        }
      },
      "source": [
        "df['Market Line'].value_counts()"
      ],
      "execution_count": null,
      "outputs": [
        {
          "output_type": "execute_result",
          "data": {
            "text/plain": [
              "D&I          87408\n",
              "UTILITIES    14129\n",
              "INDUSTRY      2743\n",
              "EXPORT        1659\n",
              "PROJECTS       775\n",
              "Interco        126\n",
              "LAN              5\n",
              "Name: Market Line, dtype: int64"
            ]
          },
          "metadata": {
            "tags": []
          },
          "execution_count": 73
        }
      ]
    },
    {
      "cell_type": "code",
      "metadata": {
        "id": "sCedgA8zZyAM",
        "outputId": "2565cc48-dc83-4d20-e183-f207af64492a",
        "colab": {
          "base_uri": "https://localhost:8080/",
          "height": 34
        }
      },
      "source": [
        "# amount of products\n",
        "df['Texto breve de material'].unique().size"
      ],
      "execution_count": null,
      "outputs": [
        {
          "output_type": "execute_result",
          "data": {
            "text/plain": [
              "1524"
            ]
          },
          "metadata": {
            "tags": []
          },
          "execution_count": 74
        }
      ]
    },
    {
      "cell_type": "markdown",
      "metadata": {
        "id": "6GdVsR0SZx9O"
      },
      "source": [
        "### Null values in 'Grupo Clientes'\n",
        "\n",
        "There is something interesting, the column 'Grupo Clientes' has got some NaN values, but this is a required field for a sale."
      ]
    },
    {
      "cell_type": "code",
      "metadata": {
        "id": "avqqvyCs93d0",
        "outputId": "5464db8e-f0e4-4f0d-a7ae-aeb1d661ce0a",
        "colab": {
          "base_uri": "https://localhost:8080/",
          "height": 355
        }
      },
      "source": [
        "df_gcnull = df[df[\"Grupo Clientes\"].isnull()]\n",
        "df_gcnull.head(3)"
      ],
      "execution_count": null,
      "outputs": [
        {
          "output_type": "execute_result",
          "data": {
            "text/html": [
              "<div>\n",
              "<style scoped>\n",
              "    .dataframe tbody tr th:only-of-type {\n",
              "        vertical-align: middle;\n",
              "    }\n",
              "\n",
              "    .dataframe tbody tr th {\n",
              "        vertical-align: top;\n",
              "    }\n",
              "\n",
              "    .dataframe thead th {\n",
              "        text-align: right;\n",
              "    }\n",
              "</style>\n",
              "<table border=\"1\" class=\"dataframe\">\n",
              "  <thead>\n",
              "    <tr style=\"text-align: right;\">\n",
              "      <th></th>\n",
              "      <th>Documento de ventas</th>\n",
              "      <th>Destinatario mcia</th>\n",
              "      <th>Fecha Reparto</th>\n",
              "      <th>Posicion docto ventas</th>\n",
              "      <th>Material</th>\n",
              "      <th>Texto breve de material</th>\n",
              "      <th>Cantidad entrega</th>\n",
              "      <th>Un. medida venta</th>\n",
              "      <th>Peso bruto</th>\n",
              "      <th>MC Al Kg</th>\n",
              "      <th>MC Cu Kg</th>\n",
              "      <th>Fecha de Pedido</th>\n",
              "      <th>Fecha Entrega</th>\n",
              "      <th>Stock a Pedidos</th>\n",
              "      <th>Grupo Materiales 2</th>\n",
              "      <th>Grupo Clientes</th>\n",
              "      <th>Valor Moneda Local</th>\n",
              "      <th>Moneda</th>\n",
              "      <th>Metros</th>\n",
              "      <th>Product ABC</th>\n",
              "      <th>Customer ABC</th>\n",
              "      <th>Market Line</th>\n",
              "      <th>Antes de color</th>\n",
              "      <th>Antes de fraccionado</th>\n",
              "    </tr>\n",
              "  </thead>\n",
              "  <tbody>\n",
              "    <tr>\n",
              "      <th>4381</th>\n",
              "      <td>4.700063e+09</td>\n",
              "      <td>#VALUE!</td>\n",
              "      <td>2019-02-01</td>\n",
              "      <td>10</td>\n",
              "      <td>10024686</td>\n",
              "      <td>A.14AWG THHN/THWN-2 600V 90ºCAM C 500</td>\n",
              "      <td>10.00</td>\n",
              "      <td>M</td>\n",
              "      <td>226,802</td>\n",
              "      <td>0</td>\n",
              "      <td>182,3</td>\n",
              "      <td>NaT</td>\n",
              "      <td>2019-02-01</td>\n",
              "      <td>STOCK</td>\n",
              "      <td>Nexans CO Alambre de Cobre THH</td>\n",
              "      <td>NaN</td>\n",
              "      <td>0</td>\n",
              "      <td>NaN</td>\n",
              "      <td>10.00</td>\n",
              "      <td>B</td>\n",
              "      <td>NaN</td>\n",
              "      <td>NaN</td>\n",
              "      <td>Alambre de Cobre THHN/THWN 14</td>\n",
              "      <td>Alambre de Cobre THHN/THWN 14 AM</td>\n",
              "    </tr>\n",
              "    <tr>\n",
              "      <th>4382</th>\n",
              "      <td>4.700063e+09</td>\n",
              "      <td>#VALUE!</td>\n",
              "      <td>2019-02-01</td>\n",
              "      <td>20</td>\n",
              "      <td>10044589</td>\n",
              "      <td>750Kcmil AL AA8000 THHW TC 600V 90C - NE</td>\n",
              "      <td>1.01</td>\n",
              "      <td>M</td>\n",
              "      <td>1.408,95</td>\n",
              "      <td>1.036,16</td>\n",
              "      <td>0</td>\n",
              "      <td>NaT</td>\n",
              "      <td>2019-02-01</td>\n",
              "      <td>A PEDIDO</td>\n",
              "      <td>Nexans CO Cable S8000</td>\n",
              "      <td>NaN</td>\n",
              "      <td>0</td>\n",
              "      <td>NaN</td>\n",
              "      <td>1.01</td>\n",
              "      <td>A</td>\n",
              "      <td>NaN</td>\n",
              "      <td>NaN</td>\n",
              "      <td>Cable S8000 750</td>\n",
              "      <td>Cable S8000 750 NE</td>\n",
              "    </tr>\n",
              "    <tr>\n",
              "      <th>4383</th>\n",
              "      <td>4.700063e+09</td>\n",
              "      <td>#VALUE!</td>\n",
              "      <td>2019-02-01</td>\n",
              "      <td>20</td>\n",
              "      <td>10044589</td>\n",
              "      <td>750Kcmil AL AA8000 THHW TC 600V 90C - NE</td>\n",
              "      <td>707.00</td>\n",
              "      <td>M</td>\n",
              "      <td>986,265</td>\n",
              "      <td>725,31</td>\n",
              "      <td>0</td>\n",
              "      <td>NaT</td>\n",
              "      <td>2019-02-01</td>\n",
              "      <td>A PEDIDO</td>\n",
              "      <td>Nexans CO Cable S8000</td>\n",
              "      <td>NaN</td>\n",
              "      <td>0</td>\n",
              "      <td>NaN</td>\n",
              "      <td>707.00</td>\n",
              "      <td>A</td>\n",
              "      <td>NaN</td>\n",
              "      <td>NaN</td>\n",
              "      <td>Cable S8000 750</td>\n",
              "      <td>Cable S8000 750 NE</td>\n",
              "    </tr>\n",
              "  </tbody>\n",
              "</table>\n",
              "</div>"
            ],
            "text/plain": [
              "      Documento de ventas Destinatario mcia Fecha Reparto  \\\n",
              "4381         4.700063e+09           #VALUE!    2019-02-01   \n",
              "4382         4.700063e+09           #VALUE!    2019-02-01   \n",
              "4383         4.700063e+09           #VALUE!    2019-02-01   \n",
              "\n",
              "      Posicion docto ventas  Material  \\\n",
              "4381                     10  10024686   \n",
              "4382                     20  10044589   \n",
              "4383                     20  10044589   \n",
              "\n",
              "                       Texto breve de material  Cantidad entrega  \\\n",
              "4381     A.14AWG THHN/THWN-2 600V 90ºCAM C 500             10.00   \n",
              "4382  750Kcmil AL AA8000 THHW TC 600V 90C - NE              1.01   \n",
              "4383  750Kcmil AL AA8000 THHW TC 600V 90C - NE            707.00   \n",
              "\n",
              "     Un. medida venta Peso bruto  MC Al Kg MC Cu Kg Fecha de Pedido  \\\n",
              "4381                M    226,802         0    182,3             NaT   \n",
              "4382                M   1.408,95  1.036,16        0             NaT   \n",
              "4383                M    986,265    725,31        0             NaT   \n",
              "\n",
              "     Fecha Entrega Stock a Pedidos              Grupo Materiales 2  \\\n",
              "4381    2019-02-01           STOCK  Nexans CO Alambre de Cobre THH   \n",
              "4382    2019-02-01        A PEDIDO           Nexans CO Cable S8000   \n",
              "4383    2019-02-01        A PEDIDO           Nexans CO Cable S8000   \n",
              "\n",
              "     Grupo Clientes  Valor Moneda Local Moneda  Metros Product ABC  \\\n",
              "4381            NaN                   0    NaN   10.00           B   \n",
              "4382            NaN                   0    NaN    1.01           A   \n",
              "4383            NaN                   0    NaN  707.00           A   \n",
              "\n",
              "     Customer ABC Market Line                 Antes de color  \\\n",
              "4381          NaN         NaN  Alambre de Cobre THHN/THWN 14   \n",
              "4382          NaN         NaN                Cable S8000 750   \n",
              "4383          NaN         NaN                Cable S8000 750   \n",
              "\n",
              "                  Antes de fraccionado  \n",
              "4381  Alambre de Cobre THHN/THWN 14 AM  \n",
              "4382                Cable S8000 750 NE  \n",
              "4383                Cable S8000 750 NE  "
            ]
          },
          "metadata": {
            "tags": []
          },
          "execution_count": 75
        }
      ]
    },
    {
      "cell_type": "code",
      "metadata": {
        "id": "S1d0ObahYZxo",
        "outputId": "aa3ddba4-3e27-47c6-df77-aedb67d9d1b3",
        "colab": {
          "base_uri": "https://localhost:8080/",
          "height": 300
        }
      },
      "source": [
        "df_gcnull.describe()"
      ],
      "execution_count": null,
      "outputs": [
        {
          "output_type": "execute_result",
          "data": {
            "text/html": [
              "<div>\n",
              "<style scoped>\n",
              "    .dataframe tbody tr th:only-of-type {\n",
              "        vertical-align: middle;\n",
              "    }\n",
              "\n",
              "    .dataframe tbody tr th {\n",
              "        vertical-align: top;\n",
              "    }\n",
              "\n",
              "    .dataframe thead th {\n",
              "        text-align: right;\n",
              "    }\n",
              "</style>\n",
              "<table border=\"1\" class=\"dataframe\">\n",
              "  <thead>\n",
              "    <tr style=\"text-align: right;\">\n",
              "      <th></th>\n",
              "      <th>Documento de ventas</th>\n",
              "      <th>Posicion docto ventas</th>\n",
              "      <th>Material</th>\n",
              "      <th>Cantidad entrega</th>\n",
              "      <th>Valor Moneda Local</th>\n",
              "      <th>Metros</th>\n",
              "    </tr>\n",
              "  </thead>\n",
              "  <tbody>\n",
              "    <tr>\n",
              "      <th>count</th>\n",
              "      <td>1.640500e+04</td>\n",
              "      <td>16419.000000</td>\n",
              "      <td>1.641900e+04</td>\n",
              "      <td>16419.000000</td>\n",
              "      <td>16419.0</td>\n",
              "      <td>16419.000000</td>\n",
              "    </tr>\n",
              "    <tr>\n",
              "      <th>mean</th>\n",
              "      <td>4.700068e+09</td>\n",
              "      <td>25.946404</td>\n",
              "      <td>1.031627e+07</td>\n",
              "      <td>240.096929</td>\n",
              "      <td>0.0</td>\n",
              "      <td>240.096929</td>\n",
              "    </tr>\n",
              "    <tr>\n",
              "      <th>std</th>\n",
              "      <td>1.016639e+03</td>\n",
              "      <td>29.486492</td>\n",
              "      <td>2.201049e+06</td>\n",
              "      <td>263.245776</td>\n",
              "      <td>0.0</td>\n",
              "      <td>263.245776</td>\n",
              "    </tr>\n",
              "    <tr>\n",
              "      <th>min</th>\n",
              "      <td>4.700063e+09</td>\n",
              "      <td>1.000000</td>\n",
              "      <td>1.001104e+07</td>\n",
              "      <td>1.000000</td>\n",
              "      <td>0.0</td>\n",
              "      <td>1.000000</td>\n",
              "    </tr>\n",
              "    <tr>\n",
              "      <th>25%</th>\n",
              "      <td>4.700067e+09</td>\n",
              "      <td>10.000000</td>\n",
              "      <td>1.002867e+07</td>\n",
              "      <td>2.500000</td>\n",
              "      <td>0.0</td>\n",
              "      <td>2.500000</td>\n",
              "    </tr>\n",
              "    <tr>\n",
              "      <th>50%</th>\n",
              "      <td>4.700068e+09</td>\n",
              "      <td>10.000000</td>\n",
              "      <td>1.004083e+07</td>\n",
              "      <td>32.000000</td>\n",
              "      <td>0.0</td>\n",
              "      <td>32.000000</td>\n",
              "    </tr>\n",
              "    <tr>\n",
              "      <th>75%</th>\n",
              "      <td>4.700069e+09</td>\n",
              "      <td>30.000000</td>\n",
              "      <td>1.004688e+07</td>\n",
              "      <td>500.000000</td>\n",
              "      <td>0.0</td>\n",
              "      <td>500.000000</td>\n",
              "    </tr>\n",
              "    <tr>\n",
              "      <th>max</th>\n",
              "      <td>4.700069e+09</td>\n",
              "      <td>330.000000</td>\n",
              "      <td>8.000606e+07</td>\n",
              "      <td>999.000000</td>\n",
              "      <td>0.0</td>\n",
              "      <td>999.000000</td>\n",
              "    </tr>\n",
              "  </tbody>\n",
              "</table>\n",
              "</div>"
            ],
            "text/plain": [
              "       Documento de ventas  Posicion docto ventas      Material  \\\n",
              "count         1.640500e+04           16419.000000  1.641900e+04   \n",
              "mean          4.700068e+09              25.946404  1.031627e+07   \n",
              "std           1.016639e+03              29.486492  2.201049e+06   \n",
              "min           4.700063e+09               1.000000  1.001104e+07   \n",
              "25%           4.700067e+09              10.000000  1.002867e+07   \n",
              "50%           4.700068e+09              10.000000  1.004083e+07   \n",
              "75%           4.700069e+09              30.000000  1.004688e+07   \n",
              "max           4.700069e+09             330.000000  8.000606e+07   \n",
              "\n",
              "       Cantidad entrega  Valor Moneda Local        Metros  \n",
              "count      16419.000000             16419.0  16419.000000  \n",
              "mean         240.096929                 0.0    240.096929  \n",
              "std          263.245776                 0.0    263.245776  \n",
              "min            1.000000                 0.0      1.000000  \n",
              "25%            2.500000                 0.0      2.500000  \n",
              "50%           32.000000                 0.0     32.000000  \n",
              "75%          500.000000                 0.0    500.000000  \n",
              "max          999.000000                 0.0    999.000000  "
            ]
          },
          "metadata": {
            "tags": []
          },
          "execution_count": 76
        }
      ]
    },
    {
      "cell_type": "code",
      "metadata": {
        "id": "gPiOxKGPYktt",
        "outputId": "9526ce5d-6f70-409c-d7cf-b0631fa34ce8",
        "colab": {
          "base_uri": "https://localhost:8080/",
          "height": 210
        }
      },
      "source": [
        "df_gcnull.describe(include=['O'])"
      ],
      "execution_count": null,
      "outputs": [
        {
          "output_type": "execute_result",
          "data": {
            "text/html": [
              "<div>\n",
              "<style scoped>\n",
              "    .dataframe tbody tr th:only-of-type {\n",
              "        vertical-align: middle;\n",
              "    }\n",
              "\n",
              "    .dataframe tbody tr th {\n",
              "        vertical-align: top;\n",
              "    }\n",
              "\n",
              "    .dataframe thead th {\n",
              "        text-align: right;\n",
              "    }\n",
              "</style>\n",
              "<table border=\"1\" class=\"dataframe\">\n",
              "  <thead>\n",
              "    <tr style=\"text-align: right;\">\n",
              "      <th></th>\n",
              "      <th>Destinatario mcia</th>\n",
              "      <th>Texto breve de material</th>\n",
              "      <th>Un. medida venta</th>\n",
              "      <th>Peso bruto</th>\n",
              "      <th>MC Al Kg</th>\n",
              "      <th>MC Cu Kg</th>\n",
              "      <th>Stock a Pedidos</th>\n",
              "      <th>Grupo Materiales 2</th>\n",
              "      <th>Grupo Clientes</th>\n",
              "      <th>Moneda</th>\n",
              "      <th>Product ABC</th>\n",
              "      <th>Customer ABC</th>\n",
              "      <th>Market Line</th>\n",
              "      <th>Antes de color</th>\n",
              "      <th>Antes de fraccionado</th>\n",
              "    </tr>\n",
              "  </thead>\n",
              "  <tbody>\n",
              "    <tr>\n",
              "      <th>count</th>\n",
              "      <td>16419</td>\n",
              "      <td>16419</td>\n",
              "      <td>16419</td>\n",
              "      <td>16419</td>\n",
              "      <td>16419</td>\n",
              "      <td>16419</td>\n",
              "      <td>16419</td>\n",
              "      <td>16419</td>\n",
              "      <td>0</td>\n",
              "      <td>0</td>\n",
              "      <td>11136</td>\n",
              "      <td>13526</td>\n",
              "      <td>0</td>\n",
              "      <td>12509</td>\n",
              "      <td>12509</td>\n",
              "    </tr>\n",
              "    <tr>\n",
              "      <th>unique</th>\n",
              "      <td>2</td>\n",
              "      <td>813</td>\n",
              "      <td>3</td>\n",
              "      <td>4471</td>\n",
              "      <td>994</td>\n",
              "      <td>2913</td>\n",
              "      <td>2</td>\n",
              "      <td>29</td>\n",
              "      <td>0</td>\n",
              "      <td>0</td>\n",
              "      <td>7</td>\n",
              "      <td>3</td>\n",
              "      <td>0</td>\n",
              "      <td>213</td>\n",
              "      <td>314</td>\n",
              "    </tr>\n",
              "    <tr>\n",
              "      <th>top</th>\n",
              "      <td>#VALUE!</td>\n",
              "      <td>1X8+8AWG ACOMCONC XLPE600V90C XLPE USE-M</td>\n",
              "      <td>M</td>\n",
              "      <td>106,521</td>\n",
              "      <td>0</td>\n",
              "      <td>0</td>\n",
              "      <td>STOCK</td>\n",
              "      <td>Nexans CO Acometida Antifraude</td>\n",
              "      <td>NaN</td>\n",
              "      <td>NaN</td>\n",
              "      <td>A</td>\n",
              "      <td>Z</td>\n",
              "      <td>NaN</td>\n",
              "      <td>Acometida Antifraude 8</td>\n",
              "      <td>Acometida Antifraude 8 NE</td>\n",
              "    </tr>\n",
              "    <tr>\n",
              "      <th>freq</th>\n",
              "      <td>16405</td>\n",
              "      <td>2336</td>\n",
              "      <td>16145</td>\n",
              "      <td>1891</td>\n",
              "      <td>10612</td>\n",
              "      <td>5929</td>\n",
              "      <td>9375</td>\n",
              "      <td>2591</td>\n",
              "      <td>NaN</td>\n",
              "      <td>NaN</td>\n",
              "      <td>6228</td>\n",
              "      <td>13515</td>\n",
              "      <td>NaN</td>\n",
              "      <td>2374</td>\n",
              "      <td>2374</td>\n",
              "    </tr>\n",
              "  </tbody>\n",
              "</table>\n",
              "</div>"
            ],
            "text/plain": [
              "       Destinatario mcia                   Texto breve de material  \\\n",
              "count              16419                                     16419   \n",
              "unique                 2                                       813   \n",
              "top              #VALUE!  1X8+8AWG ACOMCONC XLPE600V90C XLPE USE-M   \n",
              "freq               16405                                      2336   \n",
              "\n",
              "       Un. medida venta Peso bruto MC Al Kg MC Cu Kg Stock a Pedidos  \\\n",
              "count             16419      16419    16419    16419           16419   \n",
              "unique                3       4471      994     2913               2   \n",
              "top                   M    106,521        0        0           STOCK   \n",
              "freq              16145       1891    10612     5929            9375   \n",
              "\n",
              "                    Grupo Materiales 2 Grupo Clientes Moneda Product ABC  \\\n",
              "count                            16419              0      0       11136   \n",
              "unique                              29              0      0           7   \n",
              "top     Nexans CO Acometida Antifraude            NaN    NaN           A   \n",
              "freq                              2591            NaN    NaN        6228   \n",
              "\n",
              "       Customer ABC Market Line          Antes de color  \\\n",
              "count         13526           0                   12509   \n",
              "unique            3           0                     213   \n",
              "top               Z         NaN  Acometida Antifraude 8   \n",
              "freq          13515         NaN                    2374   \n",
              "\n",
              "             Antes de fraccionado  \n",
              "count                       12509  \n",
              "unique                        314  \n",
              "top     Acometida Antifraude 8 NE  \n",
              "freq                         2374  "
            ]
          },
          "metadata": {
            "tags": []
          },
          "execution_count": 77
        }
      ]
    },
    {
      "cell_type": "markdown",
      "metadata": {
        "id": "zlFHKFwda8Dk"
      },
      "source": [
        "In the rows where 'Grupo Clientes' is missing, the column 'Valor Moneda Local' is also missing, it seems like this rows correspond to cancel orders or something like that, we have to ask the company if this is true."
      ]
    },
    {
      "cell_type": "code",
      "metadata": {
        "id": "rRve2LA5Pbm0",
        "outputId": "1a4b72e6-cdb0-49db-cdf3-b62c9ef59d14",
        "colab": {
          "base_uri": "https://localhost:8080/",
          "height": 69
        }
      },
      "source": [
        "df_gcnull[\"Destinatario mcia\"].value_counts()"
      ],
      "execution_count": null,
      "outputs": [
        {
          "output_type": "execute_result",
          "data": {
            "text/plain": [
              "#VALUE!        16405\n",
              "2,51251E+11       14\n",
              "Name: Destinatario mcia, dtype: int64"
            ]
          },
          "metadata": {
            "tags": []
          },
          "execution_count": 78
        }
      ]
    },
    {
      "cell_type": "markdown",
      "metadata": {
        "id": "0Kf99zCRQEjL"
      },
      "source": [
        "'Destinatario mcia' has also strange values, so this column is useless too."
      ]
    },
    {
      "cell_type": "markdown",
      "metadata": {
        "id": "Lt3mqLjCV1ed"
      },
      "source": [
        "## Sales per Year Analysis"
      ]
    },
    {
      "cell_type": "code",
      "metadata": {
        "id": "z3EwwmnxV7n3",
        "outputId": "1a5380f9-7a3b-44c7-9447-4924b8777365",
        "colab": {
          "base_uri": "https://localhost:8080/",
          "height": 34
        }
      },
      "source": [
        "# total sales\n",
        "df['Valor Moneda Local'].sum()"
      ],
      "execution_count": null,
      "outputs": [
        {
          "output_type": "execute_result",
          "data": {
            "text/plain": [
              "108550537303086"
            ]
          },
          "metadata": {
            "tags": []
          },
          "execution_count": 79
        }
      ]
    },
    {
      "cell_type": "code",
      "metadata": {
        "id": "mQxjX36VWMw9"
      },
      "source": [
        "# adding time columns\n",
        "df.insert(0, 'YEAR', pd.DatetimeIndex(df['Fecha Reparto']).year)\n",
        "df.insert(1, 'MONTH', pd.DatetimeIndex(df['Fecha Reparto']).month)\n",
        "df.insert(2, 'DAY', pd.DatetimeIndex(df['Fecha Reparto']).day)\n",
        "df.insert(3, 'WEEK', df['Fecha Reparto'].dt.weekday)"
      ],
      "execution_count": null,
      "outputs": []
    },
    {
      "cell_type": "code",
      "metadata": {
        "id": "V1S0NVC_WMxA",
        "outputId": "a1856753-188a-4fec-acab-0e43af160dc2",
        "colab": {
          "base_uri": "https://localhost:8080/",
          "height": 802
        }
      },
      "source": [
        "# Grouping by sales per year\n",
        "year_df = df.groupby(['YEAR', 'MONTH']).agg({'Valor Moneda Local': 'sum'})\n",
        "year_df['Valor Moneda Local'] = year_df['Valor Moneda Local']\n",
        "year_df.reset_index(inplace = True)\n",
        "year_df"
      ],
      "execution_count": null,
      "outputs": [
        {
          "output_type": "execute_result",
          "data": {
            "text/html": [
              "<div>\n",
              "<style scoped>\n",
              "    .dataframe tbody tr th:only-of-type {\n",
              "        vertical-align: middle;\n",
              "    }\n",
              "\n",
              "    .dataframe tbody tr th {\n",
              "        vertical-align: top;\n",
              "    }\n",
              "\n",
              "    .dataframe thead th {\n",
              "        text-align: right;\n",
              "    }\n",
              "</style>\n",
              "<table border=\"1\" class=\"dataframe\">\n",
              "  <thead>\n",
              "    <tr style=\"text-align: right;\">\n",
              "      <th></th>\n",
              "      <th>YEAR</th>\n",
              "      <th>MONTH</th>\n",
              "      <th>Valor Moneda Local</th>\n",
              "    </tr>\n",
              "  </thead>\n",
              "  <tbody>\n",
              "    <tr>\n",
              "      <th>0</th>\n",
              "      <td>2019</td>\n",
              "      <td>1</td>\n",
              "      <td>4602001695784</td>\n",
              "    </tr>\n",
              "    <tr>\n",
              "      <th>1</th>\n",
              "      <td>2019</td>\n",
              "      <td>2</td>\n",
              "      <td>6118221443124</td>\n",
              "    </tr>\n",
              "    <tr>\n",
              "      <th>2</th>\n",
              "      <td>2019</td>\n",
              "      <td>3</td>\n",
              "      <td>5273238807496</td>\n",
              "    </tr>\n",
              "    <tr>\n",
              "      <th>3</th>\n",
              "      <td>2019</td>\n",
              "      <td>4</td>\n",
              "      <td>4604619299636</td>\n",
              "    </tr>\n",
              "    <tr>\n",
              "      <th>4</th>\n",
              "      <td>2019</td>\n",
              "      <td>5</td>\n",
              "      <td>5861722279900</td>\n",
              "    </tr>\n",
              "    <tr>\n",
              "      <th>5</th>\n",
              "      <td>2019</td>\n",
              "      <td>6</td>\n",
              "      <td>5922887128354</td>\n",
              "    </tr>\n",
              "    <tr>\n",
              "      <th>6</th>\n",
              "      <td>2019</td>\n",
              "      <td>7</td>\n",
              "      <td>5854168895604</td>\n",
              "    </tr>\n",
              "    <tr>\n",
              "      <th>7</th>\n",
              "      <td>2019</td>\n",
              "      <td>8</td>\n",
              "      <td>6571942317656</td>\n",
              "    </tr>\n",
              "    <tr>\n",
              "      <th>8</th>\n",
              "      <td>2019</td>\n",
              "      <td>9</td>\n",
              "      <td>6361220425978</td>\n",
              "    </tr>\n",
              "    <tr>\n",
              "      <th>9</th>\n",
              "      <td>2019</td>\n",
              "      <td>10</td>\n",
              "      <td>6492600374698</td>\n",
              "    </tr>\n",
              "    <tr>\n",
              "      <th>10</th>\n",
              "      <td>2019</td>\n",
              "      <td>11</td>\n",
              "      <td>6609790477216</td>\n",
              "    </tr>\n",
              "    <tr>\n",
              "      <th>11</th>\n",
              "      <td>2019</td>\n",
              "      <td>12</td>\n",
              "      <td>6298478391948</td>\n",
              "    </tr>\n",
              "    <tr>\n",
              "      <th>12</th>\n",
              "      <td>2020</td>\n",
              "      <td>1</td>\n",
              "      <td>5128701811326</td>\n",
              "    </tr>\n",
              "    <tr>\n",
              "      <th>13</th>\n",
              "      <td>2020</td>\n",
              "      <td>2</td>\n",
              "      <td>5545148613754</td>\n",
              "    </tr>\n",
              "    <tr>\n",
              "      <th>14</th>\n",
              "      <td>2020</td>\n",
              "      <td>3</td>\n",
              "      <td>4655433108888</td>\n",
              "    </tr>\n",
              "    <tr>\n",
              "      <th>15</th>\n",
              "      <td>2020</td>\n",
              "      <td>4</td>\n",
              "      <td>2424580573462</td>\n",
              "    </tr>\n",
              "    <tr>\n",
              "      <th>16</th>\n",
              "      <td>2020</td>\n",
              "      <td>5</td>\n",
              "      <td>3981970922212</td>\n",
              "    </tr>\n",
              "    <tr>\n",
              "      <th>17</th>\n",
              "      <td>2020</td>\n",
              "      <td>6</td>\n",
              "      <td>4552040558870</td>\n",
              "    </tr>\n",
              "    <tr>\n",
              "      <th>18</th>\n",
              "      <td>2020</td>\n",
              "      <td>7</td>\n",
              "      <td>6235069124560</td>\n",
              "    </tr>\n",
              "    <tr>\n",
              "      <th>19</th>\n",
              "      <td>2020</td>\n",
              "      <td>8</td>\n",
              "      <td>1460683060948</td>\n",
              "    </tr>\n",
              "    <tr>\n",
              "      <th>20</th>\n",
              "      <td>2020</td>\n",
              "      <td>9</td>\n",
              "      <td>959913675508</td>\n",
              "    </tr>\n",
              "    <tr>\n",
              "      <th>21</th>\n",
              "      <td>2020</td>\n",
              "      <td>10</td>\n",
              "      <td>923224223990</td>\n",
              "    </tr>\n",
              "    <tr>\n",
              "      <th>22</th>\n",
              "      <td>2020</td>\n",
              "      <td>11</td>\n",
              "      <td>1328292846430</td>\n",
              "    </tr>\n",
              "    <tr>\n",
              "      <th>23</th>\n",
              "      <td>2020</td>\n",
              "      <td>12</td>\n",
              "      <td>784587245744</td>\n",
              "    </tr>\n",
              "  </tbody>\n",
              "</table>\n",
              "</div>"
            ],
            "text/plain": [
              "    YEAR  MONTH  Valor Moneda Local\n",
              "0   2019      1       4602001695784\n",
              "1   2019      2       6118221443124\n",
              "2   2019      3       5273238807496\n",
              "3   2019      4       4604619299636\n",
              "4   2019      5       5861722279900\n",
              "5   2019      6       5922887128354\n",
              "6   2019      7       5854168895604\n",
              "7   2019      8       6571942317656\n",
              "8   2019      9       6361220425978\n",
              "9   2019     10       6492600374698\n",
              "10  2019     11       6609790477216\n",
              "11  2019     12       6298478391948\n",
              "12  2020      1       5128701811326\n",
              "13  2020      2       5545148613754\n",
              "14  2020      3       4655433108888\n",
              "15  2020      4       2424580573462\n",
              "16  2020      5       3981970922212\n",
              "17  2020      6       4552040558870\n",
              "18  2020      7       6235069124560\n",
              "19  2020      8       1460683060948\n",
              "20  2020      9        959913675508\n",
              "21  2020     10        923224223990\n",
              "22  2020     11       1328292846430\n",
              "23  2020     12        784587245744"
            ]
          },
          "metadata": {
            "tags": []
          },
          "execution_count": 81
        }
      ]
    },
    {
      "cell_type": "markdown",
      "metadata": {
        "id": "CrXY_j9MfnkV"
      },
      "source": [
        "### 'Valor Moneda local' through time (Months)"
      ]
    },
    {
      "cell_type": "code",
      "metadata": {
        "id": "asoB6334WMxD",
        "outputId": "feaed630-8c8e-42c5-c04d-bc460b79b64d",
        "colab": {
          "base_uri": "https://localhost:8080/",
          "height": 297
        }
      },
      "source": [
        "ax = sns.FacetGrid(year_df , col = 'YEAR', hue = 'YEAR', height=4, aspect=3)\n",
        "ax.map(sns.lineplot, 'MONTH', 'Valor Moneda Local')\n",
        "plt.tight_layout()"
      ],
      "execution_count": null,
      "outputs": [
        {
          "output_type": "display_data",
          "data": {
            "image/png": "[encoded data removed]",
            "text/plain": [
              "<Figure size 1728x288 with 2 Axes>"
            ]
          },
          "metadata": {
            "tags": [],
            "needs_background": "light"
          }
        }
      ]
    },
    {
      "cell_type": "markdown",
      "metadata": {
        "id": "7imlgjJIWMxG"
      },
      "source": [
        "### Takeaways"
      ]
    },
    {
      "cell_type": "markdown",
      "metadata": {
        "id": "0pqbNdJf7gL3"
      },
      "source": [
        "On this Jupyter Notebook we have deep-dived on the data provided by Nexans Colombia, and described the columns of interest and plotted the aggregated sales through time. We still need to understand from the company why there are NaN values on this database and whether we should take them into consideration on our analysis or not. "
      ]
    }
  ]
}